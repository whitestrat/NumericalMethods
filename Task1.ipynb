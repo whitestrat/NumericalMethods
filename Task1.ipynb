{
 "cells": [
  {
   "cell_type": "code",
   "execution_count": 86,
   "id": "cc3df968",
   "metadata": {},
   "outputs": [],
   "source": [
    "import numpy as np\n",
    "def float_to_binary(f, pres):\n",
    "    \"\"\"Конвертирует дробное число в двоичное представление\"\"\"\n",
    "    # Целая часть\n",
    "    integer_part = int(f)\n",
    "    # Дробная часть\n",
    "    fractional_part = f - integer_part\n",
    "    \n",
    "    # Конвертируем целую часть\n",
    "    int_bin = bin(integer_part)[2:]\n",
    "    \n",
    "    # Конвертируем дробную часть\n",
    "    frac_bin = []\n",
    "    for _ in range(pres):  # ограничиваем точность\n",
    "        fractional_part *= 2\n",
    "        if fractional_part >= 1:\n",
    "            frac_bin.append('1')\n",
    "            fractional_part -= 1\n",
    "        else:\n",
    "            frac_bin.append('0')\n",
    "        if fractional_part == 0:\n",
    "            frac_bin.append('0')\n",
    "    \n",
    "    return f\"{int_bin}.{''.join(frac_bin)}\""
   ]
  },
  {
   "cell_type": "markdown",
   "id": "c939fe3c",
   "metadata": {},
   "source": [
    "<i> Machine $\\varepsilon$"
   ]
  },
  {
   "cell_type": "code",
   "execution_count": 87,
   "id": "66ab3c64",
   "metadata": {},
   "outputs": [
    {
     "name": "stdout",
     "output_type": "stream",
     "text": [
      "0.000977\n",
      "0.00000000010\n"
     ]
    }
   ],
   "source": [
    "e = np.float16(1.0)\n",
    "while(np.float16(1.0) + e > np.float16(1.0)):\n",
    "    e /= 2\n",
    "print(2*e)\n",
    "print(float_to_binary(2*e, 10))"
   ]
  },
  {
   "cell_type": "code",
   "execution_count": 88,
   "id": "17d7ca93",
   "metadata": {},
   "outputs": [
    {
     "name": "stdout",
     "output_type": "stream",
     "text": [
      "1.1920929e-07\n",
      "0.000000000000000000000010\n"
     ]
    }
   ],
   "source": [
    "e = np.float32(1.0)\n",
    "while(np.float32(1.0) + e > np.float32(1.0)):\n",
    "    e /= 2\n",
    "print(2*e)\n",
    "print(float_to_binary(2*e, 23))"
   ]
  },
  {
   "cell_type": "code",
   "execution_count": 89,
   "id": "c21b12b1",
   "metadata": {},
   "outputs": [
    {
     "name": "stdout",
     "output_type": "stream",
     "text": [
      "2.220446049250313e-16\n",
      "0.00000000000000000000000000000000000000000000000000010\n"
     ]
    }
   ],
   "source": [
    "e = 1.0\n",
    "while(1.0 + e > 1.0):\n",
    "    e /= 2\n",
    "print(2*e)\n",
    "print(float_to_binary(2*e, 52))"
   ]
  },
  {
   "cell_type": "code",
   "execution_count": 90,
   "id": "0822f788",
   "metadata": {},
   "outputs": [
    {
     "name": "stdout",
     "output_type": "stream",
     "text": [
      "7.703719777548943412223911770339696E-34\n"
     ]
    }
   ],
   "source": [
    "from decimal import Decimal, getcontext\n",
    "\n",
    "# Установка высокой точности\n",
    "getcontext().prec = 34  # 34 десятичных знака\n",
    "\n",
    "e = Decimal('1.0')\n",
    "\n",
    "while(Decimal('1.0') + e > Decimal('1.0')):\n",
    "    e /= 2\n",
    "print(2*e)\n",
    "\n"
   ]
  },
  {
   "cell_type": "markdown",
   "id": "ca404aba",
   "metadata": {},
   "source": [
    "<i> Machine dwarf"
   ]
  },
  {
   "cell_type": "code",
   "execution_count": 91,
   "id": "6923fa6c",
   "metadata": {},
   "outputs": [
    {
     "name": "stdout",
     "output_type": "stream",
     "text": [
      "6e-08\n"
     ]
    }
   ],
   "source": [
    "d = np.float16(1.0)\n",
    "while(d > 0.0):\n",
    "    res = d\n",
    "    d /= 2\n",
    "print(res)"
   ]
  },
  {
   "cell_type": "code",
   "execution_count": 92,
   "id": "1b683d2e",
   "metadata": {},
   "outputs": [
    {
     "name": "stdout",
     "output_type": "stream",
     "text": [
      "1e-45\n"
     ]
    }
   ],
   "source": [
    "d = np.float32(1.0)\n",
    "while(d > 0.0):\n",
    "    res = d\n",
    "    d /= 2\n",
    "print(res)"
   ]
  },
  {
   "cell_type": "code",
   "execution_count": 93,
   "id": "cb9bdcfb",
   "metadata": {},
   "outputs": [
    {
     "name": "stdout",
     "output_type": "stream",
     "text": [
      "5e-324\n"
     ]
    }
   ],
   "source": [
    "d = 1.0\n",
    "while(d > 0.0):\n",
    "    res = d\n",
    "    d /= 2\n",
    "print(res)\n"
   ]
  },
  {
   "cell_type": "markdown",
   "id": "45875c6b",
   "metadata": {},
   "source": [
    "<i> Machine giant"
   ]
  },
  {
   "cell_type": "code",
   "execution_count": 94,
   "id": "8c6eaa88",
   "metadata": {},
   "outputs": [
    {
     "name": "stdout",
     "output_type": "stream",
     "text": [
      "3.277e+04\n"
     ]
    },
    {
     "name": "stderr",
     "output_type": "stream",
     "text": [
      "C:\\Users\\iam\\AppData\\Local\\Temp\\ipykernel_16188\\3240373381.py:2: RuntimeWarning: overflow encountered in scalar multiply\n",
      "  while(E < 2*E):\n",
      "C:\\Users\\iam\\AppData\\Local\\Temp\\ipykernel_16188\\3240373381.py:4: RuntimeWarning: overflow encountered in scalar multiply\n",
      "  E *= 2\n"
     ]
    }
   ],
   "source": [
    "E = np.float16(1.0)\n",
    "while(E < 2*E):\n",
    "    res = E\n",
    "    E *= 2\n",
    "print(res)"
   ]
  },
  {
   "cell_type": "code",
   "execution_count": 95,
   "id": "fcb5aafb",
   "metadata": {},
   "outputs": [
    {
     "name": "stdout",
     "output_type": "stream",
     "text": [
      "1.7014118e+38\n"
     ]
    },
    {
     "name": "stderr",
     "output_type": "stream",
     "text": [
      "C:\\Users\\iam\\AppData\\Local\\Temp\\ipykernel_16188\\3056852573.py:2: RuntimeWarning: overflow encountered in scalar multiply\n",
      "  while(E < 2*E):\n",
      "C:\\Users\\iam\\AppData\\Local\\Temp\\ipykernel_16188\\3056852573.py:4: RuntimeWarning: overflow encountered in scalar multiply\n",
      "  E *= 2\n"
     ]
    }
   ],
   "source": [
    "E = np.float32(1.0)\n",
    "while(E < 2*E):\n",
    "    res = E\n",
    "    E *= 2\n",
    "print(res)"
   ]
  },
  {
   "cell_type": "code",
   "execution_count": 96,
   "id": "d81d14fa",
   "metadata": {},
   "outputs": [
    {
     "name": "stdout",
     "output_type": "stream",
     "text": [
      "8.98846567431158e+307\n"
     ]
    }
   ],
   "source": [
    "E = 1.0\n",
    "while(E < 2*E):\n",
    "    res = E\n",
    "    E *= 2\n",
    "print(res)"
   ]
  }
 ],
 "metadata": {
  "kernelspec": {
   "display_name": ".venv",
   "language": "python",
   "name": "python3"
  },
  "language_info": {
   "codemirror_mode": {
    "name": "ipython",
    "version": 3
   },
   "file_extension": ".py",
   "mimetype": "text/x-python",
   "name": "python",
   "nbconvert_exporter": "python",
   "pygments_lexer": "ipython3",
   "version": "3.13.7"
  }
 },
 "nbformat": 4,
 "nbformat_minor": 5
}
